{
 "cells": [
  {
   "cell_type": "markdown",
   "metadata": {},
   "source": [
    "**Eugene Gitonga Muiru**\n",
    "\n",
    "**HANDWRITTEN DIGITS PREDICTION**\n"
   ]
  },
  {
   "cell_type": "markdown",
   "metadata": {},
   "source": [
    "The data set i am going to use contains images of hand-written digits with 10 classes where each class refers to a digit.This\n",
    "is a copy of the test set of the UCI ML hand-written digits datasets.They are grouped into pixels."
   ]
  },
  {
   "cell_type": "code",
   "execution_count": null,
   "metadata": {},
   "outputs": [],
   "source": [
    "#Steps to be followed:-\n",
    "    \n",
    "1.I will start by loading the digits dataset from sklearn datasets.\n",
    "2.Import neccesary libraries that will be used in my dataset.\n",
    "3.Define number of clusters, K, which need to be found out. \n",
    "4.Randomly select K cluster centroids.\n",
    "5.For each observation, find out the euclidean distance between the observation and all the K cluster centers of all distances. \n",
    "6.Find the nearest distance between the observation and one of the K cluster centroids (cluster centers) and assign the observation to that cluster.\n",
    "7.Move the K-centroids to the center of the points assigned to it and visualize. \n",
    "8.Repeat the above two steps until there is no change in the cluster centroids.\n",
    "9.Finding K-Means Clustering using elbow method by optimizing K."
   ]
  },
  {
   "cell_type": "code",
   "execution_count": 1,
   "metadata": {},
   "outputs": [],
   "source": [
    "# Here we will load digits and import kmeans from sklearn"
   ]
  },
  {
   "cell_type": "code",
   "execution_count": 2,
   "metadata": {},
   "outputs": [],
   "source": [
    "from sklearn.cluster import KMeans\n",
    "from sklearn.datasets import load_digits"
   ]
  },
  {
   "cell_type": "code",
   "execution_count": 3,
   "metadata": {},
   "outputs": [],
   "source": [
    "import numpy as np\n",
    "import matplotlib.pyplot as plt"
   ]
  },
  {
   "cell_type": "code",
   "execution_count": 4,
   "metadata": {},
   "outputs": [],
   "source": [
    "%matplotlib inline"
   ]
  },
  {
   "cell_type": "code",
   "execution_count": 5,
   "metadata": {},
   "outputs": [],
   "source": [
    "digits=load_digits()"
   ]
  },
  {
   "cell_type": "code",
   "execution_count": 6,
   "metadata": {},
   "outputs": [
    {
     "data": {
      "text/plain": [
       "array([[ 0.,  0.,  5., ...,  0.,  0.,  0.],\n",
       "       [ 0.,  0.,  0., ..., 10.,  0.,  0.],\n",
       "       [ 0.,  0.,  0., ..., 16.,  9.,  0.],\n",
       "       ...,\n",
       "       [ 0.,  0.,  1., ...,  6.,  0.,  0.],\n",
       "       [ 0.,  0.,  2., ..., 12.,  0.,  0.],\n",
       "       [ 0.,  0., 10., ..., 12.,  1.,  0.]])"
      ]
     },
     "execution_count": 6,
     "metadata": {},
     "output_type": "execute_result"
    }
   ],
   "source": [
    "digits.data"
   ]
  },
  {
   "cell_type": "code",
   "execution_count": 7,
   "metadata": {},
   "outputs": [
    {
     "data": {
      "text/plain": [
       "array([0, 1, 2, ..., 8, 9, 8])"
      ]
     },
     "execution_count": 7,
     "metadata": {},
     "output_type": "execute_result"
    }
   ],
   "source": [
    "digits.target"
   ]
  },
  {
   "cell_type": "code",
   "execution_count": 8,
   "metadata": {},
   "outputs": [],
   "source": [
    "#Classification of our dataset into X and y variables for plotting"
   ]
  },
  {
   "cell_type": "code",
   "execution_count": 9,
   "metadata": {},
   "outputs": [],
   "source": [
    "X = digits.data\n",
    "y = digits.target"
   ]
  },
  {
   "cell_type": "code",
   "execution_count": 10,
   "metadata": {},
   "outputs": [
    {
     "data": {
      "image/png": "[encoded data removed]",
      "text/plain": [
       "<Figure size 432x288 with 1 Axes>"
      ]
     },
     "metadata": {
      "needs_background": "light"
     },
     "output_type": "display_data"
    }
   ],
   "source": [
    "plt.scatter(X[:,1], X[:,3],color='white', marker='o', edgecolor='red', s=50)\n",
    "plt.grid()\n",
    "plt.tight_layout()\n",
    "plt.show()"
   ]
  },
  {
   "cell_type": "markdown",
   "metadata": {},
   "source": [
    " This dataset is made up of 1797 8x8 images. Each image, like the one shown below, is of a hand-written digit."
   ]
  },
  {
   "cell_type": "code",
   "execution_count": 11,
   "metadata": {},
   "outputs": [
    {
     "data": {
      "text/plain": [
       "<Figure size 432x288 with 0 Axes>"
      ]
     },
     "metadata": {},
     "output_type": "display_data"
    },
    {
     "data": {
      "image/png": "[encoded data removed]",
      "text/plain": [
       "<Figure size 288x288 with 1 Axes>"
      ]
     },
     "metadata": {
      "needs_background": "light"
     },
     "output_type": "display_data"
    }
   ],
   "source": [
    "plt.gray() \n",
    "plt.matshow(digits.images[0]) \n",
    "plt.show() "
   ]
  },
  {
   "cell_type": "code",
   "execution_count": 12,
   "metadata": {},
   "outputs": [],
   "source": [
    "#We will find the number of samples,features and digits that are present in our dataset"
   ]
  },
  {
   "cell_type": "code",
   "execution_count": 13,
   "metadata": {},
   "outputs": [],
   "source": [
    "data,labels = load_digits(return_X_y=True)"
   ]
  },
  {
   "cell_type": "code",
   "execution_count": 14,
   "metadata": {},
   "outputs": [],
   "source": [
    "(number_samples, number_features),number_digits = data.shape,np.unique(labels).size"
   ]
  },
  {
   "cell_type": "code",
   "execution_count": 15,
   "metadata": {},
   "outputs": [
    {
     "data": {
      "text/plain": [
       "1797"
      ]
     },
     "execution_count": 15,
     "metadata": {},
     "output_type": "execute_result"
    }
   ],
   "source": [
    "number_samples"
   ]
  },
  {
   "cell_type": "code",
   "execution_count": 16,
   "metadata": {},
   "outputs": [
    {
     "data": {
      "text/plain": [
       "64"
      ]
     },
     "execution_count": 16,
     "metadata": {},
     "output_type": "execute_result"
    }
   ],
   "source": [
    "number_features"
   ]
  },
  {
   "cell_type": "code",
   "execution_count": 17,
   "metadata": {},
   "outputs": [
    {
     "data": {
      "text/plain": [
       "10"
      ]
     },
     "execution_count": 17,
     "metadata": {},
     "output_type": "execute_result"
    }
   ],
   "source": [
    "number_digits"
   ]
  },
  {
   "cell_type": "code",
   "execution_count": 18,
   "metadata": {},
   "outputs": [],
   "source": [
    "import pandas as pd"
   ]
  },
  {
   "cell_type": "code",
   "execution_count": 19,
   "metadata": {},
   "outputs": [
    {
     "name": "stdout",
     "output_type": "stream",
     "text": [
      "<built-in method keys of Bunch object at 0x000001E2949D1990>\n"
     ]
    }
   ],
   "source": [
    "print (digits.keys)"
   ]
  },
  {
   "cell_type": "code",
   "execution_count": 20,
   "metadata": {},
   "outputs": [],
   "source": [
    "df = pd.DataFrame(data=digits.data)"
   ]
  },
  {
   "cell_type": "code",
   "execution_count": 21,
   "metadata": {},
   "outputs": [],
   "source": [
    "df[\"Class\"] = digits.target"
   ]
  },
  {
   "cell_type": "code",
   "execution_count": 22,
   "metadata": {},
   "outputs": [
    {
     "data": {
      "text/html": [
       "<div>\n",
       "<style scoped>\n",
       "    .dataframe tbody tr th:only-of-type {\n",
       "        vertical-align: middle;\n",
       "    }\n",
       "\n",
       "    .dataframe tbody tr th {\n",
       "        vertical-align: top;\n",
       "    }\n",
       "\n",
       "    .dataframe thead th {\n",
       "        text-align: right;\n",
       "    }\n",
       "</style>\n",
       "<table border=\"1\" class=\"dataframe\">\n",
       "  <thead>\n",
       "    <tr style=\"text-align: right;\">\n",
       "      <th></th>\n",
       "      <th>0</th>\n",
       "      <th>1</th>\n",
       "      <th>2</th>\n",
       "      <th>3</th>\n",
       "      <th>4</th>\n",
       "      <th>5</th>\n",
       "      <th>6</th>\n",
       "      <th>7</th>\n",
       "      <th>8</th>\n",
       "      <th>9</th>\n",
       "      <th>...</th>\n",
       "      <th>55</th>\n",
       "      <th>56</th>\n",
       "      <th>57</th>\n",
       "      <th>58</th>\n",
       "      <th>59</th>\n",
       "      <th>60</th>\n",
       "      <th>61</th>\n",
       "      <th>62</th>\n",
       "      <th>63</th>\n",
       "      <th>Class</th>\n",
       "    </tr>\n",
       "  </thead>\n",
       "  <tbody>\n",
       "    <tr>\n",
       "      <th>0</th>\n",
       "      <td>0.0</td>\n",
       "      <td>0.0</td>\n",
       "      <td>5.0</td>\n",
       "      <td>13.0</td>\n",
       "      <td>9.0</td>\n",
       "      <td>1.0</td>\n",
       "      <td>0.0</td>\n",
       "      <td>0.0</td>\n",
       "      <td>0.0</td>\n",
       "      <td>0.0</td>\n",
       "      <td>...</td>\n",
       "      <td>0.0</td>\n",
       "      <td>0.0</td>\n",
       "      <td>0.0</td>\n",
       "      <td>6.0</td>\n",
       "      <td>13.0</td>\n",
       "      <td>10.0</td>\n",
       "      <td>0.0</td>\n",
       "      <td>0.0</td>\n",
       "      <td>0.0</td>\n",
       "      <td>0</td>\n",
       "    </tr>\n",
       "    <tr>\n",
       "      <th>1</th>\n",
       "      <td>0.0</td>\n",
       "      <td>0.0</td>\n",
       "      <td>0.0</td>\n",
       "      <td>12.0</td>\n",
       "      <td>13.0</td>\n",
       "      <td>5.0</td>\n",
       "      <td>0.0</td>\n",
       "      <td>0.0</td>\n",
       "      <td>0.0</td>\n",
       "      <td>0.0</td>\n",
       "      <td>...</td>\n",
       "      <td>0.0</td>\n",
       "      <td>0.0</td>\n",
       "      <td>0.0</td>\n",
       "      <td>0.0</td>\n",
       "      <td>11.0</td>\n",
       "      <td>16.0</td>\n",
       "      <td>10.0</td>\n",
       "      <td>0.0</td>\n",
       "      <td>0.0</td>\n",
       "      <td>1</td>\n",
       "    </tr>\n",
       "    <tr>\n",
       "      <th>2</th>\n",
       "      <td>0.0</td>\n",
       "      <td>0.0</td>\n",
       "      <td>0.0</td>\n",
       "      <td>4.0</td>\n",
       "      <td>15.0</td>\n",
       "      <td>12.0</td>\n",
       "      <td>0.0</td>\n",
       "      <td>0.0</td>\n",
       "      <td>0.0</td>\n",
       "      <td>0.0</td>\n",
       "      <td>...</td>\n",
       "      <td>0.0</td>\n",
       "      <td>0.0</td>\n",
       "      <td>0.0</td>\n",
       "      <td>0.0</td>\n",
       "      <td>3.0</td>\n",
       "      <td>11.0</td>\n",
       "      <td>16.0</td>\n",
       "      <td>9.0</td>\n",
       "      <td>0.0</td>\n",
       "      <td>2</td>\n",
       "    </tr>\n",
       "    <tr>\n",
       "      <th>3</th>\n",
       "      <td>0.0</td>\n",
       "      <td>0.0</td>\n",
       "      <td>7.0</td>\n",
       "      <td>15.0</td>\n",
       "      <td>13.0</td>\n",
       "      <td>1.0</td>\n",
       "      <td>0.0</td>\n",
       "      <td>0.0</td>\n",
       "      <td>0.0</td>\n",
       "      <td>8.0</td>\n",
       "      <td>...</td>\n",
       "      <td>0.0</td>\n",
       "      <td>0.0</td>\n",
       "      <td>0.0</td>\n",
       "      <td>7.0</td>\n",
       "      <td>13.0</td>\n",
       "      <td>13.0</td>\n",
       "      <td>9.0</td>\n",
       "      <td>0.0</td>\n",
       "      <td>0.0</td>\n",
       "      <td>3</td>\n",
       "    </tr>\n",
       "  </tbody>\n",
       "</table>\n",
       "<p>4 rows × 65 columns</p>\n",
       "</div>"
      ],
      "text/plain": [
       "     0    1    2     3     4     5    6    7    8    9  ...   55   56   57  \\\n",
       "0  0.0  0.0  5.0  13.0   9.0   1.0  0.0  0.0  0.0  0.0  ...  0.0  0.0  0.0   \n",
       "1  0.0  0.0  0.0  12.0  13.0   5.0  0.0  0.0  0.0  0.0  ...  0.0  0.0  0.0   \n",
       "2  0.0  0.0  0.0   4.0  15.0  12.0  0.0  0.0  0.0  0.0  ...  0.0  0.0  0.0   \n",
       "3  0.0  0.0  7.0  15.0  13.0   1.0  0.0  0.0  0.0  8.0  ...  0.0  0.0  0.0   \n",
       "\n",
       "    58    59    60    61   62   63  Class  \n",
       "0  6.0  13.0  10.0   0.0  0.0  0.0      0  \n",
       "1  0.0  11.0  16.0  10.0  0.0  0.0      1  \n",
       "2  0.0   3.0  11.0  16.0  9.0  0.0      2  \n",
       "3  7.0  13.0  13.0   9.0  0.0  0.0      3  \n",
       "\n",
       "[4 rows x 65 columns]"
      ]
     },
     "execution_count": 22,
     "metadata": {},
     "output_type": "execute_result"
    }
   ],
   "source": [
    "df.head(4)"
   ]
  },
  {
   "cell_type": "code",
   "execution_count": 23,
   "metadata": {},
   "outputs": [],
   "source": [
    "#Below is the Sample display of the first digit"
   ]
  },
  {
   "cell_type": "code",
   "execution_count": 24,
   "metadata": {},
   "outputs": [
    {
     "data": {
      "image/png": "[encoded data removed]",
      "text/plain": [
       "<Figure size 216x216 with 1 Axes>"
      ]
     },
     "metadata": {
      "needs_background": "light"
     },
     "output_type": "display_data"
    }
   ],
   "source": [
    "plt.figure(1, figsize=(3, 3))\n",
    "plt.imshow(digits.images[-1], cmap=plt.cm.gray_r, interpolation='nearest')\n",
    "plt.show()"
   ]
  },
  {
   "cell_type": "code",
   "execution_count": 25,
   "metadata": {},
   "outputs": [],
   "source": [
    "from sklearn import cluster"
   ]
  },
  {
   "cell_type": "code",
   "execution_count": 26,
   "metadata": {},
   "outputs": [],
   "source": [
    "k_means=cluster.KMeans(n_clusters=3, max_iter=100,random_state=1)"
   ]
  },
  {
   "cell_type": "code",
   "execution_count": 27,
   "metadata": {},
   "outputs": [
    {
     "data": {
      "text/plain": [
       "KMeans(algorithm='auto', copy_x=True, init='k-means++', max_iter=100,\n",
       "       n_clusters=3, n_init=10, n_jobs=None, precompute_distances='auto',\n",
       "       random_state=1, tol=0.0001, verbose=0)"
      ]
     },
     "execution_count": 27,
     "metadata": {},
     "output_type": "execute_result"
    }
   ],
   "source": [
    "k_means.fit(data)"
   ]
  },
  {
   "cell_type": "code",
   "execution_count": 28,
   "metadata": {},
   "outputs": [],
   "source": [
    "labels=k_means.labels_"
   ]
  },
  {
   "cell_type": "code",
   "execution_count": 29,
   "metadata": {},
   "outputs": [],
   "source": [
    "labels=labels.reshape(-1,1)"
   ]
  },
  {
   "cell_type": "code",
   "execution_count": 30,
   "metadata": {},
   "outputs": [
    {
     "data": {
      "text/plain": [
       "array([[2],\n",
       "       [1],\n",
       "       [1],\n",
       "       ...,\n",
       "       [1],\n",
       "       [0],\n",
       "       [0]])"
      ]
     },
     "execution_count": 30,
     "metadata": {},
     "output_type": "execute_result"
    }
   ],
   "source": [
    "labels"
   ]
  },
  {
   "cell_type": "code",
   "execution_count": 31,
   "metadata": {},
   "outputs": [],
   "source": [
    "#Moving the K-centroids to the center of the points assigned to it and then we will visualize it."
   ]
  },
  {
   "cell_type": "code",
   "execution_count": 32,
   "metadata": {},
   "outputs": [],
   "source": [
    "centroid=k_means.cluster_centers_"
   ]
  },
  {
   "cell_type": "code",
   "execution_count": 33,
   "metadata": {},
   "outputs": [
    {
     "data": {
      "text/plain": [
       "array([[ 0.00000000e+00,  5.25993884e-01,  8.13761468e+00,\n",
       "         1.33226300e+01,  1.13837920e+01,  5.26452599e+00,\n",
       "         6.45259939e-01,  3.05810398e-03,  1.07033639e-02,\n",
       "         3.73853211e+00,  1.32584098e+01,  1.00764526e+01,\n",
       "         1.06207951e+01,  8.88532110e+00,  1.11620795e+00,\n",
       "         4.58715596e-03,  4.58715596e-03,  3.72629969e+00,\n",
       "         9.01529052e+00,  5.05657492e+00,  9.70948012e+00,\n",
       "         8.45718654e+00,  1.05198777e+00, -4.78783679e-16,\n",
       "        -3.25260652e-18,  1.49694190e+00,  5.90061162e+00,\n",
       "         9.51529052e+00,  1.29938838e+01,  7.81498471e+00,\n",
       "         1.14984709e+00, -6.50521303e-18,  0.00000000e+00,\n",
       "         2.61467890e-01,  2.28746177e+00,  6.60856269e+00,\n",
       "         9.37003058e+00,  8.98012232e+00,  2.43577982e+00,\n",
       "         0.00000000e+00, -2.60208521e-17,  3.30275229e-01,\n",
       "         2.76452599e+00,  3.92660550e+00,  4.37003058e+00,\n",
       "         9.29816514e+00,  4.59633028e+00,  1.07033639e-02,\n",
       "         8.84708973e-17,  9.29663609e-01,  8.52140673e+00,\n",
       "         7.83792049e+00,  8.08868502e+00,  1.24159021e+01,\n",
       "         6.23241590e+00,  3.77675841e-01, -1.62630326e-18,\n",
       "         4.75535168e-01,  8.41896024e+00,  1.38409786e+01,\n",
       "         1.38623853e+01,  1.01513761e+01,  3.93272171e+00,\n",
       "         9.25076453e-01],\n",
       "       [ 0.00000000e+00,  3.07453416e-01,  4.68012422e+00,\n",
       "         1.11242236e+01,  1.30512422e+01,  8.96894410e+00,\n",
       "         3.06055901e+00,  3.57142857e-01,  4.65838509e-03,\n",
       "         1.50621118e+00,  9.21428571e+00,  1.23959627e+01,\n",
       "         1.12500000e+01,  1.02003106e+01,  3.55279503e+00,\n",
       "         2.42236025e-01,  3.10559006e-03,  2.10714286e+00,\n",
       "         8.69565217e+00,  7.79192547e+00,  8.55900621e+00,\n",
       "         8.93322981e+00,  2.11956522e+00,  7.29813665e-02,\n",
       "         3.10559006e-03,  2.27329193e+00,  8.79503106e+00,\n",
       "         1.08354037e+01,  1.22686335e+01,  7.75776398e+00,\n",
       "         2.09316770e+00,  3.10559006e-03,  0.00000000e+00,\n",
       "         1.70962733e+00,  8.48602484e+00,  1.27810559e+01,\n",
       "         1.31273292e+01,  6.82142857e+00,  1.78260870e+00,\n",
       "         0.00000000e+00, -2.25514052e-17,  1.12732919e+00,\n",
       "         6.10869565e+00,  1.01506211e+01,  1.19130435e+01,\n",
       "         4.93633540e+00,  4.48757764e-01,  1.80411242e-16,\n",
       "         4.65838509e-03,  4.67391304e-01,  5.06366460e+00,\n",
       "         1.07624224e+01,  1.06071429e+01,  3.67701863e+00,\n",
       "         2.82608696e-01,  1.55279503e-03,  1.55279503e-03,\n",
       "         2.88819876e-01,  5.31366460e+00,  1.11288820e+01,\n",
       "         8.11801242e+00,  2.80434783e+00,  3.83540373e-01,\n",
       "         1.08695652e-02],\n",
       "       [ 0.00000000e+00,  8.01603206e-03,  2.03807615e+00,\n",
       "         1.08056112e+01,  1.09038076e+01,  2.34669339e+00,\n",
       "         1.10220441e-01,  2.00400802e-03,  1.99493200e-17,\n",
       "         3.36673347e-01,  8.12024048e+00,  1.39358717e+01,\n",
       "         8.57915832e+00,  4.63326653e+00,  6.01202405e-01,\n",
       "         7.01402806e-02,  9.97465999e-18,  1.76553106e+00,\n",
       "         1.26252505e+01,  8.49899800e+00,  1.78957916e+00,\n",
       "         5.49899800e+00,  2.32665331e+00,  8.61723447e-02,\n",
       "         5.63785130e-18,  3.99799599e+00,  1.36553106e+01,\n",
       "         5.31262525e+00,  2.88577154e+00,  6.93987976e+00,\n",
       "         4.13827655e+00,  4.00801603e-03,  0.00000000e+00,\n",
       "         5.87575150e+00,  1.36613226e+01,  7.51302605e+00,\n",
       "         7.87575150e+00,  1.09158317e+01,  4.98396794e+00,\n",
       "         0.00000000e+00,  3.20641283e-02,  3.81563126e+00,\n",
       "         1.32745491e+01,  7.78356713e+00,  6.52705411e+00,\n",
       "         1.11042084e+01,  5.84368737e+00,  8.41683367e-02,\n",
       "         2.00400802e-02,  7.15430862e-01,  9.33066132e+00,\n",
       "         1.01903808e+01,  9.61923848e+00,  1.05230461e+01,\n",
       "         4.88176353e+00,  2.46492986e-01,  2.81892565e-18,\n",
       "         1.00200401e-02,  2.12224449e+00,  1.10320641e+01,\n",
       "         1.38817635e+01,  7.43486974e+00,  1.79759519e+00,\n",
       "         8.61723447e-02]])"
      ]
     },
     "execution_count": 33,
     "metadata": {},
     "output_type": "execute_result"
    }
   ],
   "source": [
    "centroid"
   ]
  },
  {
   "cell_type": "code",
   "execution_count": 34,
   "metadata": {},
   "outputs": [],
   "source": [
    "import seaborn as sns"
   ]
  },
  {
   "cell_type": "code",
   "execution_count": 35,
   "metadata": {},
   "outputs": [
    {
     "data": {
      "image/png": "[encoded data removed]",
      "text/plain": [
       "<Figure size 432x288 with 1 Axes>"
      ]
     },
     "metadata": {
      "needs_background": "light"
     },
     "output_type": "display_data"
    }
   ],
   "source": [
    "N = 1000\n",
    "\n",
    "X0 = np.random.normal(np.repeat(np.random.uniform(0, 20, 20), N), 3)\n",
    "X1 = np.random.normal(np.repeat(np.random.uniform(0, 10, 20), N), 2)\n",
    "\n",
    "X = np.vstack([X0, X1]).T\n",
    "\n",
    "num_clusters = 3\n",
    "kmeans = KMeans(n_clusters=num_clusters).fit(X)\n",
    "\n",
    "colors = ['red', 'blue','green']\n",
    "ax = sns.scatterplot(X[:, 0], X[:, 1], hue=kmeans.labels_, palette=colors, alpha=0.5, s=7)\n",
    "ax = sns.scatterplot(kmeans.cluster_centers_[:, 0], kmeans.cluster_centers_[:, 1],\n",
    "                     hue=range(num_clusters), palette=colors, s=20, ec='black', legend=False, ax=ax)\n",
    "\n",
    "\n",
    "\n",
    "plt.show()"
   ]
  },
  {
   "cell_type": "markdown",
   "metadata": {},
   "source": [
    "The Elbow will be used to estimate the K (number of clusters) by finding its optimal value.This will be done by plotting SSE (SumOfSquaredError) againist the Number of clusters"
   ]
  },
  {
   "cell_type": "code",
   "execution_count": 3,
   "metadata": {},
   "outputs": [],
   "source": [
    "numCluster = [1,2,3,4,5,6,7,8,9,10]"
   ]
  },
  {
   "cell_type": "code",
   "execution_count": 37,
   "metadata": {},
   "outputs": [],
   "source": [
    "SSE=[]"
   ]
  },
  {
   "cell_type": "code",
   "execution_count": 38,
   "metadata": {},
   "outputs": [],
   "source": [
    "for k in numCluster:\n",
    "    \n",
    " k_means=cluster.KMeans(n_clusters=k)\n",
    " k_means.fit(data)\n",
    " SSE.append(k_means.inertia_)"
   ]
  },
  {
   "cell_type": "code",
   "execution_count": 39,
   "metadata": {},
   "outputs": [
    {
     "name": "stdout",
     "output_type": "stream",
     "text": [
      "[2159057.291040623, 1922846.6671694743, 1730184.6345800697, 1609830.8546029401, 1500924.2114986468, 1404971.82852103, 1336189.0789800067, 1265091.5222388154, 1202291.6681977352, 1165272.0337207185]\n"
     ]
    }
   ],
   "source": [
    "print(SSE)"
   ]
  },
  {
   "cell_type": "code",
   "execution_count": 40,
   "metadata": {},
   "outputs": [
    {
     "data": {
      "text/plain": [
       "Text(0, 0.5, 'SSE')"
      ]
     },
     "execution_count": 40,
     "metadata": {},
     "output_type": "execute_result"
    },
    {
     "data": {
      "image/png": "[encoded data removed]",
      "text/plain": [
       "<Figure size 432x288 with 1 Axes>"
      ]
     },
     "metadata": {
      "needs_background": "light"
     },
     "output_type": "display_data"
    }
   ],
   "source": [
    "plt.plot(numCluster, SSE)\n",
    "plt.xlabel('Number of Clusters')\n",
    "plt.ylabel('SSE')"
   ]
  }
 ],
 "metadata": {
  "kernelspec": {
   "display_name": "Python 3",
   "language": "python",
   "name": "python3"
  },
  "language_info": {
   "codemirror_mode": {
    "name": "ipython",
    "version": 3
   },
   "file_extension": ".py",
   "mimetype": "text/x-python",
   "name": "python",
   "nbconvert_exporter": "python",
   "pygments_lexer": "ipython3",
   "version": "3.7.3"
  }
 },
 "nbformat": 4,
 "nbformat_minor": 2
}
